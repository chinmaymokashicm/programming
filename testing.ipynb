{
 "cells": [
  {
   "cell_type": "code",
   "execution_count": 1,
   "metadata": {},
   "outputs": [
    {
     "output_type": "stream",
     "name": "stdout",
     "text": "[[[0, 0, 0], [0, 0, 0], [0, 0, 0]],\n [[0, 0, 0], [0, 0, 0], [0, 0, 0]],\n [[0, 0, 0], [0, 0, 0], [0, 0, 0]]]\n"
    }
   ],
   "source": [
    "from modules.matrix import Matrix"
   ]
  },
  {
   "cell_type": "code",
   "execution_count": 2,
   "metadata": {},
   "outputs": [],
   "source": [
    "mat = Matrix()\n",
    "n = 3\n",
    "distance = [[[0 for k in range(n)] for j in range(n)] for i in range(n)]\n"
   ]
  },
  {
   "cell_type": "code",
   "execution_count": 3,
   "metadata": {},
   "outputs": [],
   "source": [
    "import imageio\n",
    "import numpy as np\n",
    "arr = imageio.imread('/home/chinmay/Documents/programming/1-bw-min.png')\n"
   ]
  },
  {
   "cell_type": "code",
   "execution_count": 4,
   "metadata": {},
   "outputs": [],
   "source": [
    "bw = np.empty([arr.shape[0], arr.shape[1]])\n",
    "for x in range(arr.shape[0]):\n",
    "    for y in range(arr.shape[1]):\n",
    "        if(arr[x][y][1] >= 100):\n",
    "            bw[x][y] = 255\n",
    "        else:\n",
    "            bw[x][y] = 0\n",
    "        # bw[x][y] = arr[x][y][1]"
   ]
  },
  {
   "cell_type": "code",
   "execution_count": 5,
   "metadata": {},
   "outputs": [
    {
     "output_type": "execute_result",
     "data": {
      "text/plain": "<PIL.Image.Image image mode=L size=2373x1124 at 0x7F0BC616ACC0>",
      "image/png": "[encoded data removed]"
     },
     "metadata": {},
     "execution_count": 5
    }
   ],
   "source": [
    "# Create an image\n",
    "from PIL import Image\n",
    "bw = bw.astype('uint8')\n",
    "im = Image.fromarray(bw)\n",
    "im.save('out.png')\n",
    "im"
   ]
  },
  {
   "cell_type": "code",
   "execution_count": 6,
   "metadata": {},
   "outputs": [
    {
     "output_type": "execute_result",
     "data": {
      "text/plain": "2604.73828125"
     },
     "metadata": {},
     "execution_count": 6
    }
   ],
   "source": [
    "(bw.shape[0] * bw.shape[1])/1024"
   ]
  },
  {
   "cell_type": "code",
   "execution_count": 7,
   "metadata": {},
   "outputs": [
    {
     "output_type": "execute_result",
     "data": {
      "text/plain": "(1124, 2373)"
     },
     "metadata": {},
     "execution_count": 7
    }
   ],
   "source": [
    "mat.dimensions(bw)\n",
    "bw.shape\n",
    "# mat.number_of_dimensions(bw)"
   ]
  },
  {
   "cell_type": "code",
   "execution_count": 8,
   "metadata": {},
   "outputs": [],
   "source": [
    "import pprint\n",
    "n = 3\n",
    "distance = [[[0 for k in range(n)] for j in range(n)] for i in range(n)]\n",
    "# pprint.pprint(distance)\n",
    "\n",
    "distance = [\n",
    "    [[0,0,0,0,0],[0,0,0,0,0],[0,0,0,0,0]],\n",
    "    [[0,0,0,0,0],[0,0,0,0,0],[0,0,0,0,0]],\n",
    "    [[0,0,0,0,0],[0,0,0,0,0],[0,0,0,0,0]]\n",
    "]\n",
    "\n",
    "array = distance\n",
    "\n",
    "mat.dimensions(array)"
   ]
  },
  {
   "cell_type": "code",
   "execution_count": 9,
   "metadata": {},
   "outputs": [
    {
     "output_type": "execute_result",
     "data": {
      "text/plain": "[list, list, list]"
     },
     "metadata": {},
     "execution_count": 9
    }
   ],
   "source": [
    "distance_1 = [\n",
    "    [[0,0,0,0,0],[0,0,0,0,0],[0,0,0,0,0]],\n",
    "    [[0,0,0,0,0],[0,0,0,0,0],[0,0,0,0,0]],\n",
    "    [[0,0,0,0,0],[0,0,0,0,0],[0,0,0,0,0]]\n",
    "]\n",
    "distance_2 = [\n",
    "    [[0,0,0,'kka',0],[0,0,0,0,0],[0,0,0,0,0]],\n",
    "    [[0,0,0,0,0],[0,0,0,0,0],[0,0,0,0,0]],\n",
    "    [[0,0,0,0,0],[0,0,0,0,0],[0,0,0,0,0]]\n",
    "]\n",
    "distance_3 = [\n",
    "    [[0,0,0,[0,'d'],0],[0,0,0,0,0],[0,0,0,0,0]],\n",
    "    [[0,0,0,0,0],[0,0,0,0,0],[0,0,0,0,0]],\n",
    "    [[0,0,0,0,0],[0,0,0,0,0],[0,0,0,0,0]]\n",
    "]\n",
    "distance_4 = [\n",
    "    [[0,0,[0,'d'],0],[0,0,0,0,0],[0,0,0,0,0]],\n",
    "    [[0,0,0,0,0],[0,0,0,0,0],[0,0,0,0,0]],\n",
    "    [[0,0,0,0,0],[0,0,0,0,0],[0,0,0,0,0]]\n",
    "]\n",
    "distance = [distance_1, distance_2, distance_3, distance_4]\n",
    "\n",
    "mat.is_matrix(distance_3)\n",
    "\n",
    "# for item in distance:\n",
    "#     print(mat.is_matrix(item), end='\\t')\n",
    "#     print(mat.dimensions(item))\n",
    "\n",
    "# for i in range(0,4):\n",
    "#     distance_3 = mat.flatten_matrix(distance_4,1)\n",
    "\n",
    "items = list(map(lambda x: type(x), distance_3))\n",
    "items\n",
    "\n"
   ]
  },
  {
   "cell_type": "code",
   "execution_count": 22,
   "metadata": {},
   "outputs": [],
   "source": []
  }
 ],
 "metadata": {
  "language_info": {
   "codemirror_mode": {
    "name": "ipython",
    "version": 3
   },
   "file_extension": ".py",
   "mimetype": "text/x-python",
   "name": "python",
   "nbconvert_exporter": "python",
   "pygments_lexer": "ipython3",
   "version": "3.6.9-final"
  },
  "orig_nbformat": 2,
  "kernelspec": {
   "name": "python36964bit8cf669260c7e434abeef57232cbbe76c",
   "display_name": "Python 3.6.9 64-bit"
  }
 },
 "nbformat": 4,
 "nbformat_minor": 2
}