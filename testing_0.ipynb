{
 "cells": [
  {
   "cell_type": "code",
   "execution_count": 1,
   "metadata": {},
   "outputs": [],
   "source": [
    "import pprint\n",
    "from modules.matrix import Matrix"
   ]
  },
  {
   "cell_type": "code",
   "execution_count": 2,
   "metadata": {},
   "outputs": [],
   "source": [
    "mat = Matrix()"
   ]
  },
  {
   "cell_type": "code",
   "execution_count": 3,
   "metadata": {},
   "outputs": [],
   "source": [
    "distance_1 = [\n",
    "    [[0,2,1,0,0],[1,0,0,0,0],[0,0,0,2,0]],\n",
    "    [[0,0,1,0,0],[0,1,0,0,0],[1,1,1,0,2]],\n",
    "    [[0,3,2,1,0],[-1,0,1,1,0],[1,0,3,0,0]]\n",
    "]\n",
    "distance_2 = [\n",
    "    [[0,0,0,'kka',0],[0,0,0,0,0],[0,0,0,0,0]],\n",
    "    [[0,0,0,0,0],[0,0,0,0,0],[0,0,0,0,0]],\n",
    "    [[0,0,0,0,0],[0,0,0,0,0],[0,0,0,0,0]]\n",
    "]\n",
    "distance_3 = [\n",
    "    [[0,0,0,[0,'d'],0],[0,0,0,0,0],[0,0,0,0,0]],\n",
    "    [[0,0,0,0,0],[0,0,0,0,0],[0,0,0,0,0]],\n",
    "    [[0,0,0,0,0],[0,0,0,0,0],[0,0,0,0,0]]\n",
    "]\n",
    "distance_4 = [\n",
    "    [[0,0,[0,'d'],0],[0,0,0,0,0],[0,0,0,0,0]],\n",
    "    [[0,0,0,0,0],[0,0,0,0,0],[0,0,0,0,0]],\n",
    "    [[0,0,0,0,0],[0,0,0,0,0],[0,0,0,0,0]]\n",
    "]\n",
    "distance_5 = [\n",
    "    [[[0]], [[0]], [[0]]],\n",
    "    [[[0]], [[0]], [[0]]],\n",
    "    [[[0]], [['i']], [[0]]]\n",
    "]"
   ]
  },
  {
   "cell_type": "code",
   "execution_count": 4,
   "metadata": {},
   "outputs": [
    {
     "output_type": "stream",
     "name": "stdout",
     "text": "{'dimensions': [3, 3, 5], 'is_matrix': True, 'number_of_dimensions': 3}\n{'dimensions': [3, 3, 5], 'is_matrix': True, 'number_of_dimensions': 3}\n{'dimensions': [], 'is_matrix': False, 'number_of_dimensions': None}\n{'dimensions': [], 'is_matrix': False, 'number_of_dimensions': None}\n{'dimensions': [3, 3, 1, 1], 'is_matrix': True, 'number_of_dimensions': 4}\n"
    }
   ],
   "source": [
    "distance = [distance_1, distance_2, distance_3, distance_4, distance_5]\n",
    "for array in distance:\n",
    "    pprint.pprint(mat.matrix_dimensions(array))"
   ]
  },
  {
   "cell_type": "code",
   "execution_count": 5,
   "metadata": {},
   "outputs": [
    {
     "output_type": "stream",
     "name": "stdout",
     "text": "False\nFalse\nFalse\nFalse\nFalse\n"
    }
   ],
   "source": [
    "for array in distance:\n",
    "    print(mat.is_binary(array))"
   ]
  },
  {
   "cell_type": "code",
   "execution_count": 6,
   "metadata": {},
   "outputs": [
    {
     "output_type": "execute_result",
     "data": {
      "text/plain": "[3, 3, 5]"
     },
     "metadata": {},
     "execution_count": 6
    }
   ],
   "source": [
    "mat.matrix_dimensions(distance_1)['dimensions']"
   ]
  },
  {
   "cell_type": "code",
   "execution_count": 7,
   "metadata": {},
   "outputs": [],
   "source": [
    "# mat.get_adjacent_cells(distance_1,[2,2,4])\n",
    "# {1: {1: {}, 2: {4: 2}}, 2: {1: {3: 1}, 2: {}}}"
   ]
  },
  {
   "cell_type": "code",
   "execution_count": 8,
   "metadata": {},
   "outputs": [
    {
     "output_type": "execute_result",
     "data": {
      "text/plain": "{1: {1: {}, 2: {4: 2}}, 2: {1: {3: 1}, 2: {}}}"
     },
     "metadata": {},
     "execution_count": 8
    }
   ],
   "source": [
    "mat.get_adjacent_cells(distance_1,[2,2,4])"
   ]
  },
  {
   "cell_type": "code",
   "execution_count": 9,
   "metadata": {},
   "outputs": [
    {
     "output_type": "stream",
     "name": "stdout",
     "text": "{1: {1: {}, 2: {4: 2}}, 2: {1: {3: 1}, 2: {}}}\n"
    }
   ],
   "source": [
    "pprint.pprint(mat.get_adjacent_cells(distance_1, [2,2,4]))"
   ]
  }
 ],
 "metadata": {
  "language_info": {
   "codemirror_mode": {
    "name": "ipython",
    "version": 3
   },
   "file_extension": ".py",
   "mimetype": "text/x-python",
   "name": "python",
   "nbconvert_exporter": "python",
   "pygments_lexer": "ipython3",
   "version": "3.6.9-final"
  },
  "orig_nbformat": 2,
  "kernelspec": {
   "name": "python36964bit8cf669260c7e434abeef57232cbbe76c",
   "display_name": "Python 3.6.9 64-bit"
  }
 },
 "nbformat": 4,
 "nbformat_minor": 2
}